{
 "cells": [
  {
   "cell_type": "code",
   "execution_count": 1,
   "id": "7202eefb",
   "metadata": {},
   "outputs": [],
   "source": [
    "import pandas as pd\n",
    "from scipy import stats\n",
    "import matplotlib.pyplot as plt"
   ]
  },
  {
   "cell_type": "code",
   "execution_count": 2,
   "id": "271ecf08",
   "metadata": {},
   "outputs": [
    {
     "name": "stdout",
     "output_type": "stream",
     "text": [
      "    Males  Females\n",
      "0      12       11\n",
      "1       7       10\n",
      "2       7       11\n",
      "3      10       10\n",
      "4       8       11\n",
      "5      10       12\n",
      "6      11       12\n",
      "7       9       10\n",
      "8       9        9\n",
      "9      13        9\n",
      "10      4        9\n",
      "11      9       10\n",
      "12     12        8\n",
      "13     11        7\n",
      "14      9       12\n",
      "15      9        9\n",
      "16      7        7\n",
      "17     12        8\n",
      "18     10        9\n",
      "19     13        8\n",
      "20     11        7\n",
      "21     10        7\n",
      "22      6        9\n",
      "23     12        9\n",
      "24     11       12\n",
      "25      9       10\n",
      "26     10        9\n",
      "27     12       13\n",
      "28      8        9\n",
      "29      9        9\n",
      "30     13       10\n",
      "31     10        9\n",
      "32      9        6\n",
      "33      7       12\n",
      "34     10        8\n",
      "35      7       11\n",
      "36     10        8\n",
      "37      8        8\n",
      "38     11       11\n",
      "39     10       12\n",
      "40     11        9\n",
      "41      7       10\n",
      "42     15       11\n",
      "43      8       14\n",
      "44      9       12\n",
      "45      9        7\n",
      "46     11       11\n",
      "47     13       10\n",
      "48     10        9\n",
      "49     13       11\n"
     ]
    }
   ],
   "source": [
    "data = pd.read_csv('mx_dataset.csv')\n",
    "print(data)"
   ]
  },
  {
   "cell_type": "code",
   "execution_count": 3,
   "id": "1a7e4dd5",
   "metadata": {},
   "outputs": [],
   "source": [
    "males_data = data['Males']\n",
    "females_data = data['Females']"
   ]
  },
  {
   "cell_type": "code",
   "execution_count": 4,
   "id": "0d3b038a",
   "metadata": {},
   "outputs": [
    {
     "name": "stdout",
     "output_type": "stream",
     "text": [
      "Fail to reject the null hypothesis. There is no significant difference in mean time spent on cell phones between male and female students.\n",
      "T-statistic: 0.30394907866566184\n",
      "P-value: 0.7618111039906375\n"
     ]
    }
   ],
   "source": [
    "# 2\n",
    "\n",
    "# Perform a two-sample t-test\n",
    "t_stat, p_value = stats.ttest_ind(males_data, females_data, equal_var=True)\n",
    "\n",
    "# Define significance level\n",
    "alpha = 0.05\n",
    "\n",
    "if p_value < alpha:\n",
    "    conclusion = \"Reject the null hypothesis. There is a significant difference in mean time spent on cell phones between male and female students.\"\n",
    "else:\n",
    "    conclusion = \"Fail to reject the null hypothesis. There is no significant difference in mean time spent on cell phones between male and female students.\"\n",
    "print(conclusion)\n",
    "print(\"T-statistic:\", t_stat)\n",
    "print(\"P-value:\", p_value)"
   ]
  },
  {
   "cell_type": "code",
   "execution_count": 5,
   "id": "d30fcade",
   "metadata": {},
   "outputs": [
    {
     "name": "stdout",
     "output_type": "stream",
     "text": [
      "Descriptive Statistics for Males:\n",
      "count    50.000000\n",
      "mean      9.820000\n",
      "std       2.154161\n",
      "min       4.000000\n",
      "25%       9.000000\n",
      "50%      10.000000\n",
      "75%      11.000000\n",
      "max      15.000000\n",
      "Name: Males, dtype: float64\n",
      "\n",
      "Descriptive Statistics for Females:\n",
      "count    50.000000\n",
      "mean      9.700000\n",
      "std       1.775686\n",
      "min       6.000000\n",
      "25%       9.000000\n",
      "50%       9.500000\n",
      "75%      11.000000\n",
      "max      14.000000\n",
      "Name: Females, dtype: float64\n"
     ]
    }
   ],
   "source": [
    "#3\n",
    "\n",
    "male_stats = data['Males'].describe()\n",
    "female_stats = data['Females'].describe()\n",
    "\n",
    "# Display the statistics\n",
    "print(\"Descriptive Statistics for Males:\")\n",
    "print(male_stats)\n",
    "print(\"\\nDescriptive Statistics for Females:\")\n",
    "print(female_stats)"
   ]
  },
  {
   "cell_type": "code",
   "execution_count": 6,
   "id": "358a1f37",
   "metadata": {},
   "outputs": [
    {
     "name": "stdout",
     "output_type": "stream",
     "text": [
      "95% Confidence Interval for Male Population Mean: (9.207794314064703, 10.432205685935298)\n",
      "95% Confidence Interval for Female Population Mean: (9.19535558679254, 10.20464441320746)\n",
      "95% Confidence Interval for the Difference between Means: (-0.6634736514965714, 0.9034736514965734)\n"
     ]
    }
   ],
   "source": [
    "#4\n",
    "\n",
    "# Calculate the 95% confidence interval for the population mean of each gender category\n",
    "male_mean = males_data.mean()\n",
    "female_mean = females_data.mean()\n",
    "male_std = males_data.std()\n",
    "female_std = females_data.std()\n",
    "\n",
    "n_male = len(males_data)\n",
    "n_female = len(females_data)\n",
    "\n",
    "# Using the t-distribution to calculate the confidence intervals\n",
    "confidence_interval_male = stats.t.interval(0.95, df=n_male-1, loc=male_mean, scale=male_std / (n_male**0.5))\n",
    "confidence_interval_female = stats.t.interval(0.95, df=n_female-1, loc=female_mean, scale=female_std / (n_female**0.5))\n",
    "\n",
    "# Calculate the 95% confidence interval for the difference between the means of the two populations\n",
    "diff_mean = male_mean - female_mean\n",
    "diff_std = ((male_std**2) / n_male + (female_std**2) / n_female)**0.5\n",
    "\n",
    "confidence_interval_diff = stats.t.interval(0.95, df=n_male+n_female-2, loc=diff_mean, scale=diff_std)\n",
    "\n",
    "# Display the confidence intervals\n",
    "print(\"95% Confidence Interval for Male Population Mean:\", confidence_interval_male)\n",
    "print(\"95% Confidence Interval for Female Population Mean:\", confidence_interval_female)\n",
    "print(\"95% Confidence Interval for the Difference between Means:\", confidence_interval_diff)"
   ]
  },
  {
   "cell_type": "code",
   "execution_count": 7,
   "id": "31f24e28",
   "metadata": {},
   "outputs": [],
   "source": [
    "#6. Assumptions Testing for Two Independent Samples t-test"
   ]
  },
  {
   "cell_type": "code",
   "execution_count": 10,
   "id": "a9bf5151",
   "metadata": {},
   "outputs": [
    {
     "data": {
      "image/png": "[encoded data removed]",
      "text/plain": [
       "<Figure size 1000x500 with 2 Axes>"
      ]
     },
     "metadata": {},
     "output_type": "display_data"
    },
    {
     "name": "stdout",
     "output_type": "stream",
     "text": [
      "Shapiro-Wilk test for Male data - p-value: 0.35399243235588074\n",
      "Shapiro-Wilk test for Female data - p-value: 0.12919674813747406\n"
     ]
    }
   ],
   "source": [
    "# Visual inspection - histograms// Normality\n",
    "plt.figure(figsize=(10, 5))\n",
    "plt.subplot(1, 2, 1)\n",
    "plt.hist(males_data, bins='auto', color='blue', alpha=0.7)\n",
    "plt.title('Male Time Spent on Phones')\n",
    "plt.xlabel('Hours')\n",
    "plt.ylabel('Frequency')\n",
    "\n",
    "plt.subplot(1, 2, 2)\n",
    "plt.hist(females_data, bins='auto', color='red', alpha=0.7)\n",
    "plt.title('Female Time Spent on Phones')\n",
    "plt.xlabel('Hours')\n",
    "plt.ylabel('Frequency')\n",
    "\n",
    "plt.tight_layout()\n",
    "plt.show()\n",
    "\n",
    "# Shapiro-Wilk tests for normality\n",
    "shapiro_male = stats.shapiro(males_data)\n",
    "shapiro_female = stats.shapiro(females_data)\n",
    "\n",
    "print(\"Shapiro-Wilk test for Male data - p-value:\", shapiro_male.pvalue)\n",
    "print(\"Shapiro-Wilk test for Female data - p-value:\", shapiro_female.pvalue)"
   ]
  },
  {
   "cell_type": "code",
   "execution_count": 12,
   "id": "5b985811",
   "metadata": {},
   "outputs": [
    {
     "name": "stdout",
     "output_type": "stream",
     "text": [
      "Levene's test for Homogeneity of Variances - p-value: 0.40671633986363454\n"
     ]
    }
   ],
   "source": [
    "# Levene's test for homogeneity of variances\n",
    "levene_test = stats.levene(males_data, females_data)\n",
    "\n",
    "print(\"Levene's test for Homogeneity of Variances - p-value:\", levene_test.pvalue)\n"
   ]
  },
  {
   "cell_type": "code",
   "execution_count": null,
   "id": "857cf19b",
   "metadata": {},
   "outputs": [],
   "source": []
  }
 ],
 "metadata": {
  "kernelspec": {
   "display_name": "Python 3 (ipykernel)",
   "language": "python",
   "name": "python3"
  },
  "language_info": {
   "codemirror_mode": {
    "name": "ipython",
    "version": 3
   },
   "file_extension": ".py",
   "mimetype": "text/x-python",
   "name": "python",
   "nbconvert_exporter": "python",
   "pygments_lexer": "ipython3",
   "version": "3.9.13"
  }
 },
 "nbformat": 4,
 "nbformat_minor": 5
}
